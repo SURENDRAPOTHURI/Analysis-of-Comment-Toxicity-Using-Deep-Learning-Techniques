{
 "cells": [
  {
   "cell_type": "code",
   "execution_count": 32,
   "id": "398bbd95",
   "metadata": {},
   "outputs": [
    {
     "name": "stderr",
     "output_type": "stream",
     "text": [
      "[nltk_data] Downloading package stopwords to\n",
      "[nltk_data]     /Users/nehachauhan/nltk_data...\n",
      "[nltk_data]   Package stopwords is already up-to-date!\n",
      "[nltk_data] Downloading package punkt to\n",
      "[nltk_data]     /Users/nehachauhan/nltk_data...\n",
      "[nltk_data]   Package punkt is already up-to-date!\n",
      "[nltk_data] Downloading package wordnet to\n",
      "[nltk_data]     /Users/nehachauhan/nltk_data...\n",
      "[nltk_data]   Package wordnet is already up-to-date!\n",
      "[nltk_data] Downloading package omw-1.4 to\n",
      "[nltk_data]     /Users/nehachauhan/nltk_data...\n",
      "[nltk_data]   Package omw-1.4 is already up-to-date!\n"
     ]
    }
   ],
   "source": [
    "import pandas as pd\n",
    "import numpy as np\n",
    "import tensorflow as tf\n",
    "import re\n",
    "import random\n",
    "import matplotlib.pyplot as plt\n",
    "import matplotlib.gridspec as gridspec\n",
    "import seaborn as sns\n",
    "import nltk\n",
    "import pickle\n",
    "nltk.download('stopwords')\n",
    "nltk.download('punkt')\n",
    "nltk.download('wordnet')\n",
    "nltk.download('omw-1.4')\n",
    "import string\n",
    "from wordcloud import WordCloud\n",
    "from PIL import Image\n",
    "from nltk.corpus import stopwords\n",
    "from nltk.stem.wordnet import WordNetLemmatizer \n",
    "from keras.preprocessing.text import Tokenizer\n",
    "from tensorflow.keras.layers import TextVectorization\n",
    "from tensorflow.keras.preprocessing.sequence import pad_sequences\n",
    "from keras.layers import Dense, Input, LSTM, GRU, SimpleRNN, Embedding, Dropout, Activation, Flatten, Bidirectional, GlobalMaxPool1D\n",
    "from keras.models import Model, Sequential\n",
    "from keras import initializers, regularizers, constraints, optimizers, layers\n",
    "from keras.callbacks import Callback, ModelCheckpoint, EarlyStopping \n",
    "from keras.layers.convolutional import Conv1D, MaxPooling1D\n",
    "from keras.utils.vis_utils import plot_model\n",
    "from scipy.sparse import hstack\n",
    "from sklearn.feature_extraction.text import TfidfVectorizer, CountVectorizer, HashingVectorizer\n",
    "from sklearn.model_selection import cross_val_score, train_test_split\n",
    "from sklearn.metrics import roc_auc_score\n",
    "from sklearn.linear_model import LogisticRegression\n",
    "from imblearn.over_sampling import  SMOTE\n",
    "import warnings\n",
    "warnings.filterwarnings(\"ignore\")"
   ]
  },
  {
   "cell_type": "code",
   "execution_count": 33,
   "id": "9b88e273",
   "metadata": {},
   "outputs": [
    {
     "name": "stdout",
     "output_type": "stream",
     "text": [
      "Trainning set = 159571 records and Testing set = 153164 records.\n"
     ]
    }
   ],
   "source": [
    "pd.set_option('display.max_colwidth', 10000)\n",
    "train = pd.read_csv('train.csv')\n",
    "test = pd.read_csv('test.csv')\n",
    "print('Trainning set = {} records and Testing set = {} records.'.format(len(train),len(test)))"
   ]
  },
  {
   "cell_type": "code",
   "execution_count": 34,
   "id": "91df053b",
   "metadata": {},
   "outputs": [
    {
     "name": "stdout",
     "output_type": "stream",
     "text": [
      "Shape of train data: (159571, 8)\n",
      "Shape of test data: (153164, 2)\n"
     ]
    }
   ],
   "source": [
    "print(\"Shape of train data:\", train.shape)\n",
    "print(\"Shape of test data:\", test.shape)"
   ]
  },
  {
   "cell_type": "code",
   "execution_count": 35,
   "id": "a188259d",
   "metadata": {},
   "outputs": [
    {
     "data": {
      "text/html": [
       "<div>\n",
       "<style scoped>\n",
       "    .dataframe tbody tr th:only-of-type {\n",
       "        vertical-align: middle;\n",
       "    }\n",
       "\n",
       "    .dataframe tbody tr th {\n",
       "        vertical-align: top;\n",
       "    }\n",
       "\n",
       "    .dataframe thead th {\n",
       "        text-align: right;\n",
       "    }\n",
       "</style>\n",
       "<table border=\"1\" class=\"dataframe\">\n",
       "  <thead>\n",
       "    <tr style=\"text-align: right;\">\n",
       "      <th></th>\n",
       "      <th>id</th>\n",
       "      <th>comment_text</th>\n",
       "      <th>toxic</th>\n",
       "      <th>severe_toxic</th>\n",
       "      <th>obscene</th>\n",
       "      <th>threat</th>\n",
       "      <th>insult</th>\n",
       "      <th>identity_hate</th>\n",
       "    </tr>\n",
       "  </thead>\n",
       "  <tbody>\n",
       "    <tr>\n",
       "      <th>0</th>\n",
       "      <td>0000997932d777bf</td>\n",
       "      <td>Explanation\\nWhy the edits made under my username Hardcore Metallica Fan were reverted? They weren't vandalisms, just closure on some GAs after I voted at New York Dolls FAC. And please don't remove the template from the talk page since I'm retired now.89.205.38.27</td>\n",
       "      <td>0</td>\n",
       "      <td>0</td>\n",
       "      <td>0</td>\n",
       "      <td>0</td>\n",
       "      <td>0</td>\n",
       "      <td>0</td>\n",
       "    </tr>\n",
       "    <tr>\n",
       "      <th>1</th>\n",
       "      <td>000103f0d9cfb60f</td>\n",
       "      <td>D'aww! He matches this background colour I'm seemingly stuck with. Thanks.  (talk) 21:51, January 11, 2016 (UTC)</td>\n",
       "      <td>0</td>\n",
       "      <td>0</td>\n",
       "      <td>0</td>\n",
       "      <td>0</td>\n",
       "      <td>0</td>\n",
       "      <td>0</td>\n",
       "    </tr>\n",
       "    <tr>\n",
       "      <th>2</th>\n",
       "      <td>000113f07ec002fd</td>\n",
       "      <td>Hey man, I'm really not trying to edit war. It's just that this guy is constantly removing relevant information and talking to me through edits instead of my talk page. He seems to care more about the formatting than the actual info.</td>\n",
       "      <td>0</td>\n",
       "      <td>0</td>\n",
       "      <td>0</td>\n",
       "      <td>0</td>\n",
       "      <td>0</td>\n",
       "      <td>0</td>\n",
       "    </tr>\n",
       "    <tr>\n",
       "      <th>3</th>\n",
       "      <td>0001b41b1c6bb37e</td>\n",
       "      <td>\"\\nMore\\nI can't make any real suggestions on improvement - I wondered if the section statistics should be later on, or a subsection of \"\"types of accidents\"\"  -I think the references may need tidying so that they are all in the exact same format ie date format etc. I can do that later on, if no-one else does first - if you have any preferences for formatting style on references or want to do it yourself please let me know.\\n\\nThere appears to be a backlog on articles for review so I guess there may be a delay until a reviewer turns up. It's listed in the relevant form eg Wikipedia:Good_article_nominations#Transport  \"</td>\n",
       "      <td>0</td>\n",
       "      <td>0</td>\n",
       "      <td>0</td>\n",
       "      <td>0</td>\n",
       "      <td>0</td>\n",
       "      <td>0</td>\n",
       "    </tr>\n",
       "    <tr>\n",
       "      <th>4</th>\n",
       "      <td>0001d958c54c6e35</td>\n",
       "      <td>You, sir, are my hero. Any chance you remember what page that's on?</td>\n",
       "      <td>0</td>\n",
       "      <td>0</td>\n",
       "      <td>0</td>\n",
       "      <td>0</td>\n",
       "      <td>0</td>\n",
       "      <td>0</td>\n",
       "    </tr>\n",
       "  </tbody>\n",
       "</table>\n",
       "</div>"
      ],
      "text/plain": [
       "                 id  \\\n",
       "0  0000997932d777bf   \n",
       "1  000103f0d9cfb60f   \n",
       "2  000113f07ec002fd   \n",
       "3  0001b41b1c6bb37e   \n",
       "4  0001d958c54c6e35   \n",
       "\n",
       "                                                                                                                                                                                                                                                                                                                                                                                                                                                                                                                                                                                                                                         comment_text  \\\n",
       "0                                                                                                                                                                                                                                                                                                                                                                           Explanation\\nWhy the edits made under my username Hardcore Metallica Fan were reverted? They weren't vandalisms, just closure on some GAs after I voted at New York Dolls FAC. And please don't remove the template from the talk page since I'm retired now.89.205.38.27   \n",
       "1                                                                                                                                                                                                                                                                                                                                                                                                                                                                                                                                    D'aww! He matches this background colour I'm seemingly stuck with. Thanks.  (talk) 21:51, January 11, 2016 (UTC)   \n",
       "2                                                                                                                                                                                                                                                                                                                                                                                                           Hey man, I'm really not trying to edit war. It's just that this guy is constantly removing relevant information and talking to me through edits instead of my talk page. He seems to care more about the formatting than the actual info.   \n",
       "3  \"\\nMore\\nI can't make any real suggestions on improvement - I wondered if the section statistics should be later on, or a subsection of \"\"types of accidents\"\"  -I think the references may need tidying so that they are all in the exact same format ie date format etc. I can do that later on, if no-one else does first - if you have any preferences for formatting style on references or want to do it yourself please let me know.\\n\\nThere appears to be a backlog on articles for review so I guess there may be a delay until a reviewer turns up. It's listed in the relevant form eg Wikipedia:Good_article_nominations#Transport  \"   \n",
       "4                                                                                                                                                                                                                                                                                                                                                                                                                                                                                                                                                                                 You, sir, are my hero. Any chance you remember what page that's on?   \n",
       "\n",
       "   toxic  severe_toxic  obscene  threat  insult  identity_hate  \n",
       "0      0             0        0       0       0              0  \n",
       "1      0             0        0       0       0              0  \n",
       "2      0             0        0       0       0              0  \n",
       "3      0             0        0       0       0              0  \n",
       "4      0             0        0       0       0              0  "
      ]
     },
     "execution_count": 35,
     "metadata": {},
     "output_type": "execute_result"
    }
   ],
   "source": [
    "train.head()"
   ]
  },
  {
   "cell_type": "code",
   "execution_count": 36,
   "id": "63445e6a",
   "metadata": {},
   "outputs": [
    {
     "data": {
      "text/html": [
       "<div>\n",
       "<style scoped>\n",
       "    .dataframe tbody tr th:only-of-type {\n",
       "        vertical-align: middle;\n",
       "    }\n",
       "\n",
       "    .dataframe tbody tr th {\n",
       "        vertical-align: top;\n",
       "    }\n",
       "\n",
       "    .dataframe thead th {\n",
       "        text-align: right;\n",
       "    }\n",
       "</style>\n",
       "<table border=\"1\" class=\"dataframe\">\n",
       "  <thead>\n",
       "    <tr style=\"text-align: right;\">\n",
       "      <th></th>\n",
       "      <th>id</th>\n",
       "      <th>comment_text</th>\n",
       "    </tr>\n",
       "  </thead>\n",
       "  <tbody>\n",
       "    <tr>\n",
       "      <th>0</th>\n",
       "      <td>00001cee341fdb12</td>\n",
       "      <td>Yo bitch Ja Rule is more succesful then you'll ever be whats up with you and hating you sad mofuckas...i should bitch slap ur pethedic white faces and get you to kiss my ass you guys sicken me. Ja rule is about pride in da music man. dont diss that shit on him. and nothin is wrong bein like tupac he was a brother too...fuckin white boys get things right next time.,</td>\n",
       "    </tr>\n",
       "    <tr>\n",
       "      <th>1</th>\n",
       "      <td>0000247867823ef7</td>\n",
       "      <td>== From RfC == \\n\\n The title is fine as it is, IMO.</td>\n",
       "    </tr>\n",
       "    <tr>\n",
       "      <th>2</th>\n",
       "      <td>00013b17ad220c46</td>\n",
       "      <td>\" \\n\\n == Sources == \\n\\n * Zawe Ashton on Lapland —  /  \"</td>\n",
       "    </tr>\n",
       "    <tr>\n",
       "      <th>3</th>\n",
       "      <td>00017563c3f7919a</td>\n",
       "      <td>:If you have a look back at the source, the information I updated was the correct form. I can only guess the source hadn't updated. I shall update the information once again but thank you for your message.</td>\n",
       "    </tr>\n",
       "    <tr>\n",
       "      <th>4</th>\n",
       "      <td>00017695ad8997eb</td>\n",
       "      <td>I don't anonymously edit articles at all.</td>\n",
       "    </tr>\n",
       "  </tbody>\n",
       "</table>\n",
       "</div>"
      ],
      "text/plain": [
       "                 id  \\\n",
       "0  00001cee341fdb12   \n",
       "1  0000247867823ef7   \n",
       "2  00013b17ad220c46   \n",
       "3  00017563c3f7919a   \n",
       "4  00017695ad8997eb   \n",
       "\n",
       "                                                                                                                                                                                                                                                                                                                                                                      comment_text  \n",
       "0  Yo bitch Ja Rule is more succesful then you'll ever be whats up with you and hating you sad mofuckas...i should bitch slap ur pethedic white faces and get you to kiss my ass you guys sicken me. Ja rule is about pride in da music man. dont diss that shit on him. and nothin is wrong bein like tupac he was a brother too...fuckin white boys get things right next time.,  \n",
       "1                                                                                                                                                                                                                                                                                                                             == From RfC == \\n\\n The title is fine as it is, IMO.  \n",
       "2                                                                                                                                                                                                                                                                                                                       \" \\n\\n == Sources == \\n\\n * Zawe Ashton on Lapland —  /  \"  \n",
       "3                                                                                                                                                                    :If you have a look back at the source, the information I updated was the correct form. I can only guess the source hadn't updated. I shall update the information once again but thank you for your message.  \n",
       "4                                                                                                                                                                                                                                                                                                                                        I don't anonymously edit articles at all.  "
      ]
     },
     "execution_count": 36,
     "metadata": {},
     "output_type": "execute_result"
    }
   ],
   "source": [
    "test.head()"
   ]
  },
  {
   "cell_type": "code",
   "execution_count": 37,
   "id": "565eba49",
   "metadata": {},
   "outputs": [
    {
     "data": {
      "text/plain": [
       "(id               0\n",
       " comment_text     0\n",
       " toxic            0\n",
       " severe_toxic     0\n",
       " obscene          0\n",
       " threat           0\n",
       " insult           0\n",
       " identity_hate    0\n",
       " dtype: int64,\n",
       " id              0\n",
       " comment_text    0\n",
       " dtype: int64)"
      ]
     },
     "execution_count": 37,
     "metadata": {},
     "output_type": "execute_result"
    }
   ],
   "source": [
    "null_train = train.isnull().sum()\n",
    "null_test = test.isnull().sum()\n",
    "null_train, null_test"
   ]
  },
  {
   "cell_type": "code",
   "execution_count": 38,
   "id": "e53b6c9a",
   "metadata": {},
   "outputs": [
    {
     "data": {
      "image/png": "[encoded data removed]",
      "text/plain": [
       "<Figure size 864x504 with 1 Axes>"
      ]
     },
     "metadata": {},
     "output_type": "display_data"
    },
    {
     "name": "stdout",
     "output_type": "stream",
     "text": [
      "toxic            15294\n",
      "severe_toxic      1595\n",
      "obscene           8449\n",
      "threat             478\n",
      "insult            7877\n",
      "identity_hate     1405\n",
      "dtype: int64\n"
     ]
    }
   ],
   "source": [
    "import matplotlib.pyplot as plt\n",
    "import numpy as np\n",
    "\n",
    "# Calculate the sum of each label\n",
    "labelss = train.iloc[:, 2:].sum()\n",
    "\n",
    "# Create a colormap based on the counts\n",
    "cmap = plt.get_cmap('Blues')\n",
    "colors = cmap(np.linspace(0.2, 0.8, len(labelss)))\n",
    "\n",
    "# Plot the labelss\n",
    "plt.figure(figsize=(12, 7))\n",
    "plt.bar(labelss.index, labelss, color=colors)\n",
    "plt.xlabel('Labels')\n",
    "plt.ylabel('Count')\n",
    "plt.title('Label Counts')\n",
    "plt.show()\n",
    "\n",
    "# Display the count of labelss\n",
    "print(labelss)"
   ]
  },
  {
   "cell_type": "code",
   "execution_count": 39,
   "id": "35b10e27",
   "metadata": {},
   "outputs": [
    {
     "data": {
      "image/png": "[encoded data removed]",
      "text/plain": [
       "<Figure size 864x504 with 1 Axes>"
      ]
     },
     "metadata": {},
     "output_type": "display_data"
    }
   ],
   "source": [
    "multi_label = train.iloc[:, 2:].sum(axis=1).value_counts()[1:]\n",
    "fig, ax = plt.subplots(figsize=(12, 7))\n",
    "sns.barplot(x=multi_label.index,\n",
    "            y=multi_label.values,\n",
    "            ax=ax,\n",
    "            palette=\"hls\").set_title(\"Multi-Labeled distribution of comments\")\n",
    "\n",
    "plt.show()"
   ]
  },
  {
   "cell_type": "code",
   "execution_count": 40,
   "id": "1826a9a1",
   "metadata": {},
   "outputs": [
    {
     "name": "stdout",
     "output_type": "stream",
     "text": [
      "Total comments is 159571.\n",
      "Non toxic comments are 143346, which is 0.8983211235124177 of total comments.\n"
     ]
    }
   ],
   "source": [
    "# labels = train.iloc[:,2:8]\n",
    "# row_sum = labels.sum(axis = 1)\n",
    "# # mark comments without any labels as \"non-toxic\"\n",
    "# train['Non-toxic'] = (row_sum == 0)\n",
    "# print('Total comments is {}.'.format(len(train)))\n",
    "# print('Non toxic comments are {}, which is {} of total comments.'.format(train['Non-toxic'].sum(),train['Non-toxic'].sum()/len(train)))"
   ]
  },
  {
   "cell_type": "code",
   "execution_count": 42,
   "id": "c6f5b03e",
   "metadata": {},
   "outputs": [
    {
     "name": "stdout",
     "output_type": "stream",
     "text": [
      "Total comments: 159571.\n",
      "Non-toxic comments: 143346, which is 89.83% of total comments.\n"
     ]
    }
   ],
   "source": [
    "labels = train.iloc[:, 2:8]\n",
    "row_sum = labels.sum(axis=1)\n",
    "\n",
    "train['Non-toxic'] = (row_sum == 0)\n",
    "\n",
    "total_comments = len(train)\n",
    "non_toxic_comments = train['Non-toxic'].sum()\n",
    "percent_non_toxic = (non_toxic_comments / total_comments) * 100\n",
    "\n",
    "print('Total comments: {}.'.format(total_comments))\n",
    "print('Non-toxic comments: {}, which is {:.2f}% of total comments.'.format(non_toxic_comments, percent_non_toxic))"
   ]
  },
  {
   "cell_type": "code",
   "execution_count": 43,
   "id": "ab0e527b",
   "metadata": {},
   "outputs": [
    {
     "data": {
      "image/png": "[encoded data removed]",
      "text/plain": [
       "<Figure size 720x432 with 1 Axes>"
      ]
     },
     "metadata": {},
     "output_type": "display_data"
    }
   ],
   "source": [
    "col_sum = pd.Series(labels.sum(axis=0))\n",
    "Non_toxic = pd.Series(train['Non-toxic'].sum(), index=['Non-toxic'])\n",
    "col_sum = pd.concat([Non_toxic, col_sum])\n",
    "\n",
    "plt.figure(figsize=(10, 6))\n",
    "sns.set_style(\"whitegrid\")  # Set the style of the plot\n",
    "\n",
    "ax = sns.barplot(col_sum.index, col_sum.values, palette=\"Set2\")  # Customize the color palette\n",
    "\n",
    "# Add labels to the bars\n",
    "for rect, label in zip(ax.patches, col_sum.values):\n",
    "    ax.text(rect.get_x() + rect.get_width()/2, rect.get_height(), label,\n",
    "            ha='center', va='bottom', fontsize=12)\n",
    "\n",
    "# Set labels and title\n",
    "plt.xlabel('Subtype', fontsize=14)\n",
    "plt.ylabel('Number of Records', fontsize=14)\n",
    "plt.title('Distribution of Subtypes', fontsize=16)\n",
    "\n",
    "# Customize tick labels and font size\n",
    "plt.xticks(fontsize=12, rotation=45)\n",
    "plt.yticks(fontsize=12)\n",
    "\n",
    "# Remove top and right spines\n",
    "sns.despine()\n",
    "\n",
    "# Adjust the layout and padding\n",
    "plt.tight_layout(pad=2)\n",
    "\n",
    "# Display the plot\n",
    "plt.show()"
   ]
  },
  {
   "cell_type": "code",
   "execution_count": 44,
   "id": "51615ddf",
   "metadata": {},
   "outputs": [
    {
     "name": "stdout",
     "output_type": "stream",
     "text": [
      "32726th record is \"Non-toxic\":\n",
      "I dont understand, what do you mean?\n",
      "\n",
      "If you think the nummbers are wrong then I would be very happy to hear you oppinion D\n",
      "I dont mean that in any sarcastic way or nothing like that because I would be very happy to talk nummbers with someone who actually knows them and it seems that you do D\n",
      "\n",
      "And am I your pal D\n",
      "\n",
      "( )\n",
      "\n",
      "5168th record is \"toxic\":\n",
      "editheadz \n",
      "Will you keep your stupid mouth shut for once? You have NO IDEA, not even a CLUE what you are talkign about, idiot! - Julius\n",
      "\n",
      "722th record is \"severe_toxic\":\n",
      "fuk u retard i hate u i will kill u bettr watch ur bak cuz im teamin up wit my mothafuka boothy and we gonna rise the south on yo ass bitch\n",
      "\n",
      "7260th record is \"obscene\":\n",
      "\"\n",
      "\n",
      " DAMN FKER ITS ME 24...173. ONCE AGAIN, MY IP ADDRESS CHANGES AFTER AN ADMISTOR BANNS IT!!!!!!!! GET IT YET YOU \"\"FEMALE DOG\"\" \"\n",
      "\n",
      "1th record is \"threat\":\n",
      "I think that your a Fagget get a oife and burn in Hell I hate you 'm sorry we cant have any more sex i'm running out of conndoms\n",
      "\n",
      "7862th record is \"insult\":\n",
      ", are you dumber than you look? asshole.\n",
      "\n",
      "286th record is \"identity_hate\":\n",
      "THAT WAS REALLY MILLESECONDS WASNT IT BITCH \n",
      "\n",
      "FAT JEW FAT JEW FAT JEW FAT JEW FAT JEW FAT JEW FAT JEW FAT JEW FAT JEW FAT JEW FAT JEW FAT JEW FAT JEW FAT JEW FAT JEW FAT JEW FAT JEW FAT JEW FAT JEW FAT JEW FAT JEW FAT JEW FAT JEW FAT JEW FAT JEW FAT JEW FAT JEW FAT JEW FAT JEW FAT JEW FAT JEW FAT JEW FAT JEW FAT JEW FAT JEW FAT JEW FAT JEW FAT JEW FAT JEW FAT JEW FAT JEW FAT JEW FAT JEW FAT JEW FAT JEW FAT JEW FAT JEW FAT JEW FAT JEW FAT JEW FAT JEW FAT JEW FAT JEW FAT JEW FAT JEW FAT JEW FAT JEW FAT JEW FAT JEW FAT JEW FAT JEW FAT JEW FAT JEW FAT JEW FAT JEW FAT JEW FAT JEW FAT JEW FAT JEW FAT JEW FAT JEW FAT JEW FAT JEW FAT JEW FAT JEW FAT JEW FAT JEW FAT JEW FAT JEW FAT JEW FAT JEW FAT JEW FAT JEW FAT JEW FAT JEW FAT JEW FAT JEW FAT JEW FAT JEW FAT JEW FAT JEW FAT JEW FAT JEW FAT JEW FAT JEW FAT JEW FAT JEW FAT JEW FAT JEW FAT JEW FAT JEW FAT JEW FAT JEW FAT JEW FAT JEW FAT JEW FAT JEW FAT JEW FAT JEW FAT JEW FAT JEW FAT JEW FAT JEW FAT JEW FAT JEW FAT JEW FAT JEW FAT JEW FAT JEW FAT JEW FAT JEW FAT JEW FAT JEW FAT JEW FAT JEW FAT JEW FAT JEW FAT JEW FAT JEW FAT JEW FAT JEW FAT JEW FAT JEW FAT JEW FAT JEW FAT JEWFAT JEW FAT JEW FAT JEW FAT JEW FAT JEW FAT JEW FAT JEW FAT JEW FAT JEW FAT JEW FAT JEW FAT JEW FAT JEW FAT JEW FAT JEW FAT JEW FAT JEW FAT JEW FAT JEW FAT JEW FAT JEW FAT JEW FAT JEW FAT JEW FAT JEW FAT JEW FAT JEW FAT JEW FAT JEW FAT JEW FAT JEW FAT JEW FAT JEW FAT JEW FAT JEW FAT JEW FAT JEW FAT JEW FAT JEW FAT JEW FAT JEW FAT JEW FAT JEW FAT JEW FAT JEW FAT JEW FAT JEW FAT JEW FAT JEW FAT JEW FAT JEW FAT JEW FAT JEW FAT JEW FAT JEW FAT JEW FAT JEW FAT JEW FAT JEW FAT JEW FAT JEW FAT JEW FAT JEW FAT JEW FAT JEW FAT JEW FAT JEW FAT JEW FAT JEW FAT JEW FAT JEW FAT JEW FAT JEW FAT JEW FAT JEW FAT JEW FAT JEW FAT JEW FAT JEW FAT JEW FAT JEW FAT JEW FAT JEW FAT JEW FAT JEW FAT JEW FAT JEW FAT JEW FAT JEW FAT JEW FAT JEW FAT JEW FAT JEW FAT JEW FAT JEW FAT JEW FAT JEW FAT JEW FAT JEW FAT JEW FAT JEW FAT JEW FAT JEW FAT JEW FAT JEW FAT JEW FAT JEW FAT JEW FAT JEW FAT JEW FAT JEW FAT JEW FAT JEW FAT JEW FAT JEW FAT JEW FAT JEW FAT JEW FAT JEW FAT JEW FAT JEW FAT JEW FAT JEW FAT JEW FAT JEW FAT JEW FAT JEW FAT JEW FAT JEW FAT JEW FAT JEW FAT JEW FAT JEW FAT JEW FAT JEW FAT JEWFAT JEW FAT JEW FAT JEW FAT JEW FAT JEW FAT JEW FAT JEW FAT JEW FAT JEW FAT JEW FAT JEW FAT JEW FAT JEW FAT JEW FAT JEW FAT JEW FAT JEW FAT JEW FAT JEW FAT JEW FAT JEW FAT JEW FAT JEW FAT JEW FAT JEW FAT JEW FAT JEW FAT JEW FAT JEW FAT JEW FAT JEW FAT JEW FAT JEW FAT JEW FAT JEW FAT JEW FAT JEW FAT JEW FAT JEW FAT JEW FAT JEW FAT JEW FAT JEW FAT JEW FAT JEW FAT JEW FAT JEW FAT JEW FAT JEW FAT JEW FAT JEW FAT JEW FAT JEW FAT JEW FAT JEW FAT JEW FAT JEW FAT JEW FAT JEW FAT JEW FAT JEW FAT JEW FAT JEW FAT JEW FAT JEW FAT JEW FAT JEW FAT JEW FAT JEW FAT JEW FAT JEW FAT JEW FAT JEW FAT JEW FAT JEW FAT JEW FAT JEW FAT JEW FAT JEW FAT JEW FAT JEW FAT JEW FAT JEW FAT JEW FAT JEW FAT JEW FAT JEW FAT JEW FAT JEW FAT JEW FAT JEW FAT JEW FAT JEW FAT JEW FAT JEW FAT JEW FAT JEW FAT JEW FAT JEW FAT JEW FAT JEW FAT JEW FAT JEW FAT JEW FAT JEW FAT JEW FAT JEW FAT JEW FAT JEW FAT JEW FAT JEW FAT JEW FAT JEW FAT JEW FAT JEW FAT JEW FAT JEW FAT JEW FAT JEW FAT JEW FAT JEW FAT JEW FAT JEW FAT JEW FAT JEW FAT JEW FAT JEW FAT JEW FAT JEW FAT JEW FAT JEW FAT JEW FAT JEW FAT JEW FAT JEW FAT JEWFAT JEW FAT JEW FAT JEW FAT JEW FAT JEW FAT JEW FAT JEW FAT JEW FAT JEW FAT JEW FAT JEW FAT JEW FAT JEW FAT JEW FAT JEW FAT JEW FAT JEW FAT JEW FAT JEW FAT JEW FAT JEW FAT JEW FAT JEW FAT JEW FAT JEW FAT JEW FAT JEW FAT JEW FAT JEW FAT JEW FAT JEW FAT JEW FAT JEW FAT JEW FAT JEW FAT JEW FAT JEW FAT JEW FAT JEW FAT JEW FAT JEW FAT JEW FAT JEW FAT JEW FAT JEW FAT JEW FAT JEW FAT JEW FAT JEW FAT JEW FAT JEW FAT JEW FAT JEW FAT JEW FAT JEW FAT JEW FAT JEW FAT JEW FAT JEW FAT JEW FAT JEW FAT JEW FAT JEW FAT JEW FAT JEW FAT JEW FAT JEW FAT JEW FAT JEW FAT JEW FAT JEW FAT JEW FAT JEW FAT JEW FAT JEW FAT JEW FAT JEW FAT JEW FAT JEW FAT JEW FAT JEW FAT JEW FAT JEW FAT JEW FAT JEW FAT JEW FAT JEW FAT JEW FAT JEW FAT JEW FAT JEW FAT JEW FAT JEW FAT JEW FAT JEW FAT JEW FAT JEW FAT JEW FAT JEW FAT JEW FAT JEW FAT JEW FAT JEW FAT JEW FAT JEW FAT JEW FAT JEW FAT JEW FAT JEW FAT JEW FAT JEW FAT JEW FAT JEW FAT JEW FAT JEW FAT JEW FAT JEW FAT JEW FAT JEW FAT JEW FAT JEW FAT JEW FAT JEW FAT JEW FAT JEW FAT JEW FAT JEW FAT JEW FAT JEW FAT JEW FAT JEW FAT JEW FAT JEW FAT JEW FAT JEW FAT JEWFAT JEW FAT JEW FAT JEW FAT JEW FAT JEW FAT JEW FAT JEW FAT JEW FAT JEW FAT JEW FAT JEW FAT JEW FAT JEW FAT JEW FAT JEW FAT JEW FAT JEW FAT JEW FAT JEW FAT JEW FAT JEW FAT JEW FAT JEW FAT JEW FAT JEW FAT JEW FAT JEW FAT JEW FAT JEW FAT JEW FAT JEW FAT JEW FAT JEW FAT JEW FAT JEW FAT JEW FAT JEW FAT JEW FAT JEW FAT JEW FAT JEW FAT JEW FAT JEW FAT JEW FAT JEW FAT JEW FAT JEW FAT JEW FAT JEW FAT JEW FAT JEW FAT JEW FAT JEW FAT JEW FAT JEW FAT JEW FAT JEW FAT JEW FAT JEW FAT JEW FAT JEW FAT JEW FAT JEW FAT JEW FAT JEW FAT JEW FAT JEW FAT JEW FAT JEW FAT JEW FAT JEW FAT JEW FAT JEW FAT\n",
      "\n"
     ]
    }
   ],
   "source": [
    "diff_comm = ['Non-toxic', 'toxic','severe_toxic', 'obscene', 'threat', 'insult', 'identity_hate']\n",
    "for t in diff_comm:\n",
    "    record_number = random.randint(1, train[t].sum())\n",
    "    print('{}th record is \"{}\":'.format(record_number,t))\n",
    "    print(train[train[t] == 1].iloc[record_number,1])\n",
    "    print('')"
   ]
  },
  {
   "cell_type": "code",
   "execution_count": 45,
   "id": "22b868fd",
   "metadata": {},
   "outputs": [
    {
     "data": {
      "text/plain": [
       "0                                                                                                                                                                                                                                                                                                                                                                             Explanation\\nWhy the edits made under my username Hardcore Metallica Fan were reverted? They weren't vandalisms, just closure on some GAs after I voted at New York Dolls FAC. And please don't remove the template from the talk page since I'm retired now.89.205.38.27\n",
       "1                                                                                                                                                                                                                                                                                                                                                                                                                                                                                                                                      D'aww! He matches this background colour I'm seemingly stuck with. Thanks.  (talk) 21:51, January 11, 2016 (UTC)\n",
       "2                                                                                                                                                                                                                                                                                                                                                                                                             Hey man, I'm really not trying to edit war. It's just that this guy is constantly removing relevant information and talking to me through edits instead of my talk page. He seems to care more about the formatting than the actual info.\n",
       "3    \"\\nMore\\nI can't make any real suggestions on improvement - I wondered if the section statistics should be later on, or a subsection of \"\"types of accidents\"\"  -I think the references may need tidying so that they are all in the exact same format ie date format etc. I can do that later on, if no-one else does first - if you have any preferences for formatting style on references or want to do it yourself please let me know.\\n\\nThere appears to be a backlog on articles for review so I guess there may be a delay until a reviewer turns up. It's listed in the relevant form eg Wikipedia:Good_article_nominations#Transport  \"\n",
       "4                                                                                                                                                                                                                                                                                                                                                                                                                                                                                                                                                                                   You, sir, are my hero. Any chance you remember what page that's on?\n",
       "Name: comment_text, dtype: object"
      ]
     },
     "execution_count": 45,
     "metadata": {},
     "output_type": "execute_result"
    }
   ],
   "source": [
    "train['comment_text'][0:5]"
   ]
  },
  {
   "cell_type": "code",
   "execution_count": 46,
   "id": "fc150c8a",
   "metadata": {},
   "outputs": [],
   "source": [
    "# def clean_docu(text_record):\n",
    "#     # split tokens by white space\n",
    "#     tokens = text_record.split()\n",
    "#     # remove punctuation from each string\n",
    "#     table = str.maketrans({key: None for key in string.punctuation})\n",
    "#     tokens = [token.translate(table) for token in tokens]\n",
    "#     # remove tokens that are not alphabetic\n",
    "#     tokens = [token for token in tokens if token.isalpha()]\n",
    "#     # convert letters to lower case\n",
    "#     tokens = [token.lower() for token in tokens]\n",
    "#     # remove stopwords\n",
    "#     stop_words = set(stopwords.words('english'))\n",
    "#     tokens = [token for token in tokens if token not in stop_words]\n",
    "#     # remove short words (one letter)\n",
    "#     tokens = [token for token in tokens if len(token) > 1]\n",
    "#     # lemmatization\n",
    "#     lem = WordNetLemmatizer()\n",
    "#     tokens = [lem.lemmatize(token,\"v\") for token in tokens]\n",
    "#     sentence = ' '.join(tokens)\n",
    "#     return sentence"
   ]
  },
  {
   "cell_type": "code",
   "execution_count": 48,
   "id": "84dd8708",
   "metadata": {},
   "outputs": [],
   "source": [
    "def clean_data(text_record):\n",
    "    # split tokens by white space\n",
    "    tokens = text_record.split()\n",
    "    # remove punctuation from each string\n",
    "    table = str.maketrans({key: None for key in string.punctuation})\n",
    "    tokens = [token.translate(table) for token in tokens]\n",
    "    # remove tokens that are not alphabetic\n",
    "    tokens = [token for token in tokens if token.isalpha()]\n",
    "    # remove stopwords\n",
    "    stop_words = set(stopwords.words('english'))\n",
    "    tokens = [token for token in tokens if token not in stop_words]\n",
    "    # lemmatization\n",
    "    lem = WordNetLemmatizer()\n",
    "    tokens = [lem.lemmatize(token, \"v\") for token in tokens]\n",
    "    sentence = ' '.join(tokens)\n",
    "    return sentence"
   ]
  },
  {
   "cell_type": "code",
   "execution_count": 49,
   "id": "f64c9950",
   "metadata": {},
   "outputs": [],
   "source": [
    "train_cleaned = [clean_data(comment) for comment in train.comment_text.copy()]\n",
    "test_cleaned = [clean_data(comment) for comment in test.comment_text.copy()]"
   ]
  },
  {
   "cell_type": "code",
   "execution_count": 50,
   "id": "ad900cf9",
   "metadata": {
    "scrolled": true
   },
   "outputs": [
    {
     "data": {
      "text/plain": [
       "['Explanation Why edit make username Hardcore Metallica Fan revert They werent vandalisms closure GAs I vote New York Dolls FAC And please dont remove template talk page since Im retire',\n",
       " 'Daww He match background colour Im seemingly stick Thanks talk January UTC',\n",
       " 'Hey man Im really try edit war Its guy constantly remove relevant information talk edit instead talk page He seem care format actual info',\n",
       " 'More I cant make real suggestions improvement I wonder section statistics later subsection type accidents I think reference may need tidy exact format ie date format etc I later noone else first preferences format style reference want please let know There appear backlog article review I guess may delay reviewer turn Its list relevant form eg WikipediaGoodarticlenominationsTransport',\n",
       " 'You sir hero Any chance remember page thats']"
      ]
     },
     "execution_count": 50,
     "metadata": {},
     "output_type": "execute_result"
    }
   ],
   "source": [
    "train_cleaned[0:5]"
   ]
  },
  {
   "cell_type": "code",
   "execution_count": 51,
   "id": "04dd81a4",
   "metadata": {},
   "outputs": [
    {
     "data": {
      "image/png": "[encoded data removed]",
      "text/plain": [
       "<Figure size 720x432 with 1 Axes>"
      ]
     },
     "metadata": {},
     "output_type": "display_data"
    },
    {
     "name": "stdout",
     "output_type": "stream",
     "text": [
      "No. with maximum count: 30\n",
      "Count: 16908\n"
     ]
    }
   ],
   "source": [
    "num_words = [len(comment) for comment in train.comment_text]\n",
    "\n",
    "plt.figure(figsize=(10, 6))\n",
    "sns.set_style(\"whitegrid\")  # Set the style of the plot\n",
    "\n",
    "# Calculate the count of each bin\n",
    "hist, bins = np.histogram(num_words, bins=np.arange(0, 1000, 30))\n",
    "\n",
    "# Set the desired color\n",
    "bar_color = 'gray'\n",
    "\n",
    "# Plot the bar plot\n",
    "plt.bar(bins[:-1], hist, width=30, color=bar_color, edgecolor='black')\n",
    "\n",
    "# Set labels and title\n",
    "plt.xlabel('Number of Words per Comment', fontsize=14)\n",
    "plt.ylabel('Number of Comments', fontsize=14)\n",
    "plt.title('Distribution of Number of Words per Comment', fontsize=16)\n",
    "\n",
    "# Customize tick labels and font size\n",
    "plt.xticks(fontsize=12)\n",
    "plt.yticks(fontsize=12)\n",
    "\n",
    "# Remove top and right spines\n",
    "sns.despine()\n",
    "\n",
    "# Adjust the layout and padding\n",
    "plt.tight_layout(pad=2)\n",
    "\n",
    "# Display the plot\n",
    "plt.show()\n",
    "\n",
    "# Find the number with the maximum count\n",
    "max_count = np.max(hist)\n",
    "max_num_words = bins[np.argmax(hist)]\n",
    "\n",
    "print(\"No. with maximum count:\", max_num_words)\n",
    "print(\"Count:\", max_count)"
   ]
  },
  {
   "cell_type": "code",
   "execution_count": 52,
   "id": "c3673c88",
   "metadata": {},
   "outputs": [
    {
     "name": "stdout",
     "output_type": "stream",
     "text": [
      "Vocab_size = 209420.\n"
     ]
    }
   ],
   "source": [
    "max_features = 25000\n",
    "tokens = Tokenizer(num_words = max_features)\n",
    "tokens.fit_on_texts(train_cleaned)\n",
    "train_encoded = tokens.texts_to_sequences(train_cleaned)\n",
    "test_encoded = tokens.texts_to_sequences(test_cleaned)\n",
    "# vocabulary size\n",
    "print('Vocab_size = {}.'.format(len(tokens.word_index)))\n",
    "# examples\n",
    "#print(train_encoded[0])"
   ]
  },
  {
   "cell_type": "code",
   "execution_count": 53,
   "id": "93da41dd",
   "metadata": {},
   "outputs": [],
   "source": [
    "max_len = 250\n",
    "X_train = pad_sequences(train_encoded, maxlen = max_len, padding = 'post')\n",
    "X_test = pad_sequences(test_encoded, maxlen = max_len, padding = 'post')\n",
    "\n",
    "attribute_names = ['toxic', 'severe_toxic', 'obscene', 'threat', 'insult', 'identity_hate']\n",
    "y_train = train[attribute_names].values"
   ]
  },
  {
   "cell_type": "code",
   "execution_count": 54,
   "id": "dd2407a7",
   "metadata": {},
   "outputs": [
    {
     "name": "stdout",
     "output_type": "stream",
     "text": [
      "X_train shape is (159571, 250)\n",
      "y_train shape is (159571, 6)\n"
     ]
    }
   ],
   "source": [
    "print('X_train shape is {}'.format(X_train.shape))\n",
    "print('y_train shape is {}'.format(y_train.shape))"
   ]
  },
  {
   "cell_type": "code",
   "execution_count": 55,
   "id": "0601da3c",
   "metadata": {},
   "outputs": [],
   "source": [
    "'''Imbalanced-learn currently supports binary, multiclass and binarized encoded multiclasss targets. \n",
    "Multilabel and multioutput targets are not supported.''' \n",
    "word_vectors = TfidfVectorizer(\n",
    "    sublinear_tf=True,\n",
    "    strip_accents='unicode',\n",
    "    analyzer='word',\n",
    "    token_pattern=r'\\w{1,}',\n",
    "    stop_words='english',\n",
    "    ngram_range=(1, 6),\n",
    "    max_features=25000\n",
    ")\n",
    "\n",
    "word_vectors.fit(train_cleaned)\n",
    "train_features = word_vectors.transform(train_cleaned)\n",
    "test_features = word_vectors.transform(test_cleaned)"
   ]
  },
  {
   "cell_type": "code",
   "execution_count": 56,
   "id": "f65bc9c7",
   "metadata": {},
   "outputs": [
    {
     "name": "stdout",
     "output_type": "stream",
     "text": [
      "Cross_Val score for \"toxic\" is 0.9616591659186152\n",
      "Cross_Val score for \"severe_toxic\" is 0.9819385108633192\n",
      "Cross_Val score for \"obscene\" is 0.9801007781993682\n",
      "Cross_Val score for \"threat\" is 0.976035761533136\n",
      "Cross_Val score for \"insult\" is 0.9707877363385705\n",
      "Cross_Val score for \"identity_hate\" is 0.9686250465693341\n",
      "Total Cross_Val score is 0.9731911665703906\n"
     ]
    }
   ],
   "source": [
    "cross_scores = []\n",
    "for attri_name in attribute_names:\n",
    "    train_target = train[attri_name]\n",
    "    classifier = LogisticRegression(C=0.2, solver='sag')\n",
    "    cv_scores = cross_val_score(classifier, train_features, train_target, cv=3, scoring='roc_auc')\n",
    "    cv_score = np.mean(cv_scores)\n",
    "    cross_scores.append(cv_score)\n",
    "    print('Cross_Val score for \"{}\" is {}'.format(attri_name, cv_score))\n",
    "    classifier.fit(train_features, train_target)\n",
    "    \n",
    "print('Total Cross_Val score is {}'.format(np.mean(cross_scores)))"
   ]
  },
  {
   "cell_type": "code",
   "execution_count": 57,
   "id": "d4a3c465",
   "metadata": {},
   "outputs": [],
   "source": [
    "class roc_auc(Callback):\n",
    "    def __init__(self, training_data, validation_data):\n",
    "        self.x = training_data[0]\n",
    "        self.y = training_data[1]\n",
    "        self.x_val = validation_data[0]\n",
    "        self.y_val = validation_data[1]\n",
    " \n",
    "    def on_epoch_end(self, epoch, logs={}):\n",
    "        y_pred = self.model.predict(self.x)\n",
    "        roc = roc_auc_score(self.y, y_pred)\n",
    "        \n",
    "        y_pred_val = self.model.predict(self.x_val)\n",
    "        roc_val = roc_auc_score(self.y_val, y_pred_val)\n",
    "        \n",
    "        print('\\rroc-auc: %s - roc-auc_val: %s' % (str(round(roc, 4)), str(round(roc_val, 4))), end=100 * ' ' + '\\n')"
   ]
  },
  {
   "cell_type": "code",
   "execution_count": 58,
   "id": "9c074adc",
   "metadata": {},
   "outputs": [],
   "source": [
    "def train_model(model, X_train, y_train, X_val, y_val, batch_size, epochs, filepath):\n",
    "    # callbacks\n",
    "    checkpointer = ModelCheckpoint(filepath=filepath, verbose=1, save_best_only=True)\n",
    "    \n",
    "    roc = roc_auc(training_data=(X_train, y_train), validation_data=(X_val, y_val))\n",
    "    \n",
    "    # fit the model\n",
    "    history = model.fit(X_train, y_train,\n",
    "                        validation_data=(X_val, y_val),\n",
    "                        batch_size=batch_size,\n",
    "                        epochs=epochs,\n",
    "                        callbacks=[roc, checkpointer])\n",
    "    \n",
    "    # load the model with the best validation loss\n",
    "    model.load_weights(filepath)\n",
    "    \n",
    "    return model, history"
   ]
  },
  {
   "cell_type": "code",
   "execution_count": 59,
   "id": "a23d8123",
   "metadata": {},
   "outputs": [
    {
     "name": "stdout",
     "output_type": "stream",
     "text": [
      "Model: \"sequential\"\n",
      "_________________________________________________________________\n",
      " Layer (type)                Output Shape              Param #   \n",
      "=================================================================\n",
      " embedding (Embedding)       (None, 250, 100)          2500000   \n",
      "                                                                 \n",
      " lstm (LSTM)                 (None, 64)                42240     \n",
      "                                                                 \n",
      " dropout (Dropout)           (None, 64)                0         \n",
      "                                                                 \n",
      " dense (Dense)               (None, 6)                 390       \n",
      "                                                                 \n",
      "=================================================================\n",
      "Total params: 2,542,630\n",
      "Trainable params: 2,542,630\n",
      "Non-trainable params: 0\n",
      "_________________________________________________________________\n"
     ]
    },
    {
     "name": "stderr",
     "output_type": "stream",
     "text": [
      "2023-06-07 21:17:15.305430: I tensorflow/core/common_runtime/executor.cc:1197] [/device:CPU:0] (DEBUG INFO) Executor start aborting (this does not indicate an error and you can ignore this message): INVALID_ARGUMENT: You must feed a value for placeholder tensor 'gradients/split_2_grad/concat/split_2/split_dim' with dtype int32\n",
      "\t [[{{node gradients/split_2_grad/concat/split_2/split_dim}}]]\n",
      "2023-06-07 21:17:15.309459: I tensorflow/core/common_runtime/executor.cc:1197] [/device:CPU:0] (DEBUG INFO) Executor start aborting (this does not indicate an error and you can ignore this message): INVALID_ARGUMENT: You must feed a value for placeholder tensor 'gradients/split_grad/concat/split/split_dim' with dtype int32\n",
      "\t [[{{node gradients/split_grad/concat/split/split_dim}}]]\n",
      "2023-06-07 21:17:15.312578: I tensorflow/core/common_runtime/executor.cc:1197] [/device:CPU:0] (DEBUG INFO) Executor start aborting (this does not indicate an error and you can ignore this message): INVALID_ARGUMENT: You must feed a value for placeholder tensor 'gradients/split_1_grad/concat/split_1/split_dim' with dtype int32\n",
      "\t [[{{node gradients/split_1_grad/concat/split_1/split_dim}}]]\n"
     ]
    }
   ],
   "source": [
    "lstm = Sequential()\n",
    "lstm.add(Embedding(max_features, 100, input_length=max_len))\n",
    "lstm.add(LSTM(64))\n",
    "lstm.add(Dropout(0.25))\n",
    "lstm.add(Dense(6, activation=\"sigmoid\"))\n",
    "\n",
    "lstm.compile(loss=\"categorical_crossentropy\", optimizer=\"rmsprop\", metrics=[\"accuracy\"])\n",
    "\n",
    "lstm.summary()"
   ]
  },
  {
   "cell_type": "code",
   "execution_count": null,
   "id": "87e50b5b",
   "metadata": {},
   "outputs": [
    {
     "name": "stdout",
     "output_type": "stream",
     "text": [
      "Epoch 1/3\n"
     ]
    },
    {
     "name": "stderr",
     "output_type": "stream",
     "text": [
      "2023-06-07 21:17:20.653510: I tensorflow/core/common_runtime/executor.cc:1197] [/device:CPU:0] (DEBUG INFO) Executor start aborting (this does not indicate an error and you can ignore this message): INVALID_ARGUMENT: You must feed a value for placeholder tensor 'gradients/split_2_grad/concat/split_2/split_dim' with dtype int32\n",
      "\t [[{{node gradients/split_2_grad/concat/split_2/split_dim}}]]\n",
      "2023-06-07 21:17:20.656119: I tensorflow/core/common_runtime/executor.cc:1197] [/device:CPU:0] (DEBUG INFO) Executor start aborting (this does not indicate an error and you can ignore this message): INVALID_ARGUMENT: You must feed a value for placeholder tensor 'gradients/split_grad/concat/split/split_dim' with dtype int32\n",
      "\t [[{{node gradients/split_grad/concat/split/split_dim}}]]\n",
      "2023-06-07 21:17:20.657450: I tensorflow/core/common_runtime/executor.cc:1197] [/device:CPU:0] (DEBUG INFO) Executor start aborting (this does not indicate an error and you can ignore this message): INVALID_ARGUMENT: You must feed a value for placeholder tensor 'gradients/split_1_grad/concat/split_1/split_dim' with dtype int32\n",
      "\t [[{{node gradients/split_1_grad/concat/split_1/split_dim}}]]\n",
      "2023-06-07 21:17:21.697285: I tensorflow/core/common_runtime/executor.cc:1197] [/device:CPU:0] (DEBUG INFO) Executor start aborting (this does not indicate an error and you can ignore this message): INVALID_ARGUMENT: You must feed a value for placeholder tensor 'gradients/split_2_grad/concat/split_2/split_dim' with dtype int32\n",
      "\t [[{{node gradients/split_2_grad/concat/split_2/split_dim}}]]\n",
      "2023-06-07 21:17:21.699727: I tensorflow/core/common_runtime/executor.cc:1197] [/device:CPU:0] (DEBUG INFO) Executor start aborting (this does not indicate an error and you can ignore this message): INVALID_ARGUMENT: You must feed a value for placeholder tensor 'gradients/split_grad/concat/split/split_dim' with dtype int32\n",
      "\t [[{{node gradients/split_grad/concat/split/split_dim}}]]\n",
      "2023-06-07 21:17:21.705039: I tensorflow/core/common_runtime/executor.cc:1197] [/device:CPU:0] (DEBUG INFO) Executor start aborting (this does not indicate an error and you can ignore this message): INVALID_ARGUMENT: You must feed a value for placeholder tensor 'gradients/split_1_grad/concat/split_1/split_dim' with dtype int32\n",
      "\t [[{{node gradients/split_1_grad/concat/split_1/split_dim}}]]\n"
     ]
    },
    {
     "name": "stdout",
     "output_type": "stream",
     "text": [
      "281/281 [==============================] - ETA: 0s - loss: 0.3991 - accuracy: 0.1679"
     ]
    },
    {
     "name": "stderr",
     "output_type": "stream",
     "text": [
      "2023-06-07 21:23:23.301868: I tensorflow/core/common_runtime/executor.cc:1197] [/device:CPU:0] (DEBUG INFO) Executor start aborting (this does not indicate an error and you can ignore this message): INVALID_ARGUMENT: You must feed a value for placeholder tensor 'gradients/split_2_grad/concat/split_2/split_dim' with dtype int32\n",
      "\t [[{{node gradients/split_2_grad/concat/split_2/split_dim}}]]\n",
      "2023-06-07 21:23:23.304169: I tensorflow/core/common_runtime/executor.cc:1197] [/device:CPU:0] (DEBUG INFO) Executor start aborting (this does not indicate an error and you can ignore this message): INVALID_ARGUMENT: You must feed a value for placeholder tensor 'gradients/split_grad/concat/split/split_dim' with dtype int32\n",
      "\t [[{{node gradients/split_grad/concat/split/split_dim}}]]\n",
      "2023-06-07 21:23:23.305979: I tensorflow/core/common_runtime/executor.cc:1197] [/device:CPU:0] (DEBUG INFO) Executor start aborting (this does not indicate an error and you can ignore this message): INVALID_ARGUMENT: You must feed a value for placeholder tensor 'gradients/split_1_grad/concat/split_1/split_dim' with dtype int32\n",
      "\t [[{{node gradients/split_1_grad/concat/split_1/split_dim}}]]\n"
     ]
    },
    {
     "name": "stdout",
     "output_type": "stream",
     "text": [
      "\r",
      "   1/4488 [..............................] - ETA: 37:36"
     ]
    },
    {
     "name": "stderr",
     "output_type": "stream",
     "text": [
      "2023-06-07 21:23:35.967368: I tensorflow/core/common_runtime/executor.cc:1197] [/device:CPU:0] (DEBUG INFO) Executor start aborting (this does not indicate an error and you can ignore this message): INVALID_ARGUMENT: You must feed a value for placeholder tensor 'gradients/split_2_grad/concat/split_2/split_dim' with dtype int32\n",
      "\t [[{{node gradients/split_2_grad/concat/split_2/split_dim}}]]\n",
      "2023-06-07 21:23:35.968583: I tensorflow/core/common_runtime/executor.cc:1197] [/device:CPU:0] (DEBUG INFO) Executor start aborting (this does not indicate an error and you can ignore this message): INVALID_ARGUMENT: You must feed a value for placeholder tensor 'gradients/split_grad/concat/split/split_dim' with dtype int32\n",
      "\t [[{{node gradients/split_grad/concat/split/split_dim}}]]\n",
      "2023-06-07 21:23:35.970656: I tensorflow/core/common_runtime/executor.cc:1197] [/device:CPU:0] (DEBUG INFO) Executor start aborting (this does not indicate an error and you can ignore this message): INVALID_ARGUMENT: You must feed a value for placeholder tensor 'gradients/split_1_grad/concat/split_1/split_dim' with dtype int32\n",
      "\t [[{{node gradients/split_1_grad/concat/split_1/split_dim}}]]\n"
     ]
    },
    {
     "name": "stdout",
     "output_type": "stream",
     "text": [
      "4488/4488 [==============================] - 146s 33ms/step\n",
      "499/499 [==============================] - 16s 33ms/step\n",
      "roc-auc: 0.5075 - roc-auc_val: 0.5191                                                                                                    \n",
      "\n",
      "Epoch 1: val_loss improved from inf to 0.35678, saving model to saved_models/weights.best.from_scatch_lstm.hdf5\n",
      "281/281 [==============================] - 540s 2s/step - loss: 0.3991 - accuracy: 0.1679 - val_loss: 0.3568 - val_accuracy: 0.0018\n",
      "Epoch 2/3\n",
      "4488/4488 [==============================] - 145s 32ms/step\n",
      "499/499 [==============================] - 16s 33ms/step\n",
      "roc-auc: 0.5054 - roc-auc_val: 0.5155                                                                                                    \n",
      "\n",
      "Epoch 2: val_loss improved from 0.35678 to 0.35288, saving model to saved_models/weights.best.from_scatch_lstm.hdf5\n",
      "281/281 [==============================] - 529s 2s/step - loss: 0.3966 - accuracy: 0.2089 - val_loss: 0.3529 - val_accuracy: 0.0033\n",
      "Epoch 3/3\n",
      " 972/4488 [=====>........................] - ETA: 21:04"
     ]
    }
   ],
   "source": [
    "X_train, X_val, y_train, y_val = train_test_split(X_train, y_train, train_size=0.9, random_state=30)\n",
    "\n",
    "lstm_trained, history_lstm = train_model(lstm,\n",
    "                                         X_train, y_train,\n",
    "                                         X_val, y_val,\n",
    "                                         batch_size=512,\n",
    "                                         epochs=3,\n",
    "                                         filepath='saved_models/weights.best.from_scatch_lstm.hdf5')"
   ]
  },
  {
   "cell_type": "code",
   "execution_count": 63,
   "id": "f861b81f",
   "metadata": {},
   "outputs": [
    {
     "name": "stdout",
     "output_type": "stream",
     "text": [
      "Model: \"sequential_3\"\n",
      "_________________________________________________________________\n",
      " Layer (type)                Output Shape              Param #   \n",
      "=================================================================\n",
      " embedding_1 (Embedding)     (None, 250, 100)          2500000   \n",
      "                                                                 \n",
      " simple_rnn (SimpleRNN)      (None, 100)               20100     \n",
      "                                                                 \n",
      " dense_1 (Dense)             (None, 6)                 606       \n",
      "                                                                 \n",
      "=================================================================\n",
      "Total params: 2,520,706\n",
      "Trainable params: 2,520,706\n",
      "Non-trainable params: 0\n",
      "_________________________________________________________________\n"
     ]
    }
   ],
   "source": [
    "rnn = Sequential()\n",
    "rnn.add(Embedding(max_features, 100, input_length=max_len))\n",
    "rnn.add(SimpleRNN(100))\n",
    "rnn.add(Dense(6, activation='sigmoid'))\n",
    "rnn.compile(loss='binary_crossentropy', optimizer='adam', metrics=['accuracy'])\n",
    "rnn.summary()"
   ]
  },
  {
   "cell_type": "code",
   "execution_count": 64,
   "id": "3b2fcdb4",
   "metadata": {},
   "outputs": [
    {
     "name": "stdout",
     "output_type": "stream",
     "text": [
      "Epoch 1/5\n",
      "4040/4040 [==============================] - 84s 21ms/step\n",
      "449/449 [==============================] - 9s 20ms/step\n",
      "roc-auc: 0.5061 - roc-auc_val: 0.5073                                                                                                    \n",
      "\n",
      "Epoch 1: val_loss improved from inf to 0.14073, saving model to saved_models/weights.best.from_scratch_rnn.hdf5\n",
      "253/253 [==============================] - 281s 1s/step - loss: 0.1492 - accuracy: 0.9895 - val_loss: 0.1407 - val_accuracy: 0.9941\n",
      "Epoch 2/5\n",
      "4040/4040 [==============================] - 81s 20ms/step\n",
      "449/449 [==============================] - 9s 21ms/step\n",
      "roc-auc: 0.723 - roc-auc_val: 0.7094                                                                                                    \n",
      "\n",
      "Epoch 2: val_loss improved from 0.14073 to 0.13363, saving model to saved_models/weights.best.from_scratch_rnn.hdf5\n",
      "253/253 [==============================] - 290s 1s/step - loss: 0.3462 - accuracy: 0.7009 - val_loss: 0.1336 - val_accuracy: 0.9817\n",
      "Epoch 3/5\n",
      "4040/4040 [==============================] - 82s 20ms/step\n",
      "449/449 [==============================] - 9s 20ms/step\n",
      "roc-auc: 0.8484 - roc-auc_val: 0.7946                                                                                                    \n",
      "\n",
      "Epoch 3: val_loss improved from 0.13363 to 0.11915, saving model to saved_models/weights.best.from_scratch_rnn.hdf5\n",
      "253/253 [==============================] - 283s 1s/step - loss: 0.1229 - accuracy: 0.9747 - val_loss: 0.1191 - val_accuracy: 0.9760\n",
      "Epoch 4/5\n",
      "4040/4040 [==============================] - 84s 21ms/step\n",
      "449/449 [==============================] - 10s 22ms/step\n",
      "roc-auc: 0.8748 - roc-auc_val: 0.8062                                                                                                    \n",
      "\n",
      "Epoch 4: val_loss improved from 0.11915 to 0.11736, saving model to saved_models/weights.best.from_scratch_rnn.hdf5\n",
      "253/253 [==============================] - 294s 1s/step - loss: 0.1124 - accuracy: 0.9758 - val_loss: 0.1174 - val_accuracy: 0.9795\n",
      "Epoch 5/5\n",
      "4040/4040 [==============================] - 86s 21ms/step\n",
      "449/449 [==============================] - 10s 22ms/step\n",
      "roc-auc: 0.8906 - roc-auc_val: 0.8138                                                                                                    \n",
      "\n",
      "Epoch 5: val_loss did not improve from 0.11736\n",
      "253/253 [==============================] - 293s 1s/step - loss: 0.1091 - accuracy: 0.9805 - val_loss: 0.1185 - val_accuracy: 0.9824\n"
     ]
    }
   ],
   "source": [
    "X_train, X_val, y_train, y_val = train_test_split(X_train, y_train, train_size=0.9, random_state=30)\n",
    "rnn_trained, history_rnn = train_model(rnn,\n",
    "                                X_train,y_train,\n",
    "                                X_val,y_val,\n",
    "                                batch_size=512, \n",
    "                                epochs=5,\n",
    "                                filepath='saved_models/weights.best.from_scratch_rnn.hdf5')"
   ]
  },
  {
   "cell_type": "code",
   "execution_count": 65,
   "id": "aaebcada",
   "metadata": {},
   "outputs": [],
   "source": [
    "with open('rnn_model.pkl', 'wb') as f:\n",
    "    pickle.dump(rnn, f)"
   ]
  },
  {
   "cell_type": "code",
   "execution_count": 66,
   "id": "393019ca",
   "metadata": {},
   "outputs": [],
   "source": [
    "with open('rnn_model.pkl', 'rb') as f:\n",
    "    rnn_model = pickle.load(f)\n"
   ]
  },
  {
   "cell_type": "code",
   "execution_count": 67,
   "id": "314b67d7",
   "metadata": {},
   "outputs": [
    {
     "name": "stdout",
     "output_type": "stream",
     "text": [
      "449/449 [==============================] - 10s 22ms/step\n",
      "AUC: 80.62%\n"
     ]
    }
   ],
   "source": [
    "y_pred_val = rnn_model.predict(X_val)\n",
    "\n",
    "# Calculate AUC using y_pred_val and y_val\n",
    "auc = roc_auc_score(y_val, y_pred_val)\n",
    "print(\"AUC: %.2f%%\" % (auc * 100))"
   ]
  },
  {
   "cell_type": "code",
   "execution_count": null,
   "id": "84cb0be6",
   "metadata": {},
   "outputs": [],
   "source": []
  },
  {
   "cell_type": "code",
   "execution_count": 68,
   "id": "73ce306d",
   "metadata": {},
   "outputs": [
    {
     "name": "stdout",
     "output_type": "stream",
     "text": [
      "Model: \"sequential_4\"\n",
      "_________________________________________________________________\n",
      " Layer (type)                Output Shape              Param #   \n",
      "=================================================================\n",
      " embedding_2 (Embedding)     (None, 250, 200)          5000000   \n",
      "                                                                 \n",
      " conv1d (Conv1D)             (None, 248, 32)           19232     \n",
      "                                                                 \n",
      " max_pooling1d (MaxPooling1D  (None, 124, 32)          0         \n",
      " )                                                               \n",
      "                                                                 \n",
      " dropout_1 (Dropout)         (None, 124, 32)           0         \n",
      "                                                                 \n",
      " conv1d_1 (Conv1D)           (None, 122, 64)           6208      \n",
      "                                                                 \n",
      " max_pooling1d_1 (MaxPooling  (None, 61, 64)           0         \n",
      " 1D)                                                             \n",
      "                                                                 \n",
      " dropout_2 (Dropout)         (None, 61, 64)            0         \n",
      "                                                                 \n",
      " flatten (Flatten)           (None, 3904)              0         \n",
      "                                                                 \n",
      " dense_2 (Dense)             (None, 500)               1952500   \n",
      "                                                                 \n",
      " dropout_3 (Dropout)         (None, 500)               0         \n",
      "                                                                 \n",
      " dense_3 (Dense)             (None, 6)                 3006      \n",
      "                                                                 \n",
      "=================================================================\n",
      "Total params: 6,980,946\n",
      "Trainable params: 6,980,946\n",
      "Non-trainable params: 0\n",
      "_________________________________________________________________\n"
     ]
    }
   ],
   "source": [
    "\n",
    "# Build CNN model\n",
    "cnn = Sequential()\n",
    "cnn.add(Embedding(max_features, 200, input_length=max_len))  # Increase embedding dimension to 200\n",
    "cnn.add(Conv1D(filters=32, kernel_size=3, activation='relu'))  # Increase number of filters to 32\n",
    "cnn.add(MaxPooling1D(pool_size=2))\n",
    "cnn.add(Dropout(0.5))\n",
    "cnn.add(Conv1D(filters=64, kernel_size=3, activation='relu'))  # Increase number of filters to 64\n",
    "cnn.add(MaxPooling1D(pool_size=2))\n",
    "cnn.add(Dropout(0.5))\n",
    "cnn.add(Flatten())\n",
    "cnn.add(Dense(500, activation=\"relu\"))  # Increase number of units in the dense layer to 800\n",
    "cnn.add(Dropout(0.5))\n",
    "cnn.add(Dense(6, activation=\"sigmoid\"))\n",
    "cnn.compile(optimizer='adam', loss='binary_crossentropy', metrics=['accuracy'])\n",
    "# Print model summary\n",
    "cnn.summary()"
   ]
  },
  {
   "cell_type": "code",
   "execution_count": 69,
   "id": "bf243eaf",
   "metadata": {},
   "outputs": [
    {
     "name": "stdout",
     "output_type": "stream",
     "text": [
      "Epoch 1/3\n",
      "3636/3636 [==============================] - 57s 16ms/step\n",
      "404/404 [==============================] - 6s 16ms/step\n",
      "roc-auc: 0.9655 - roc-auc_val: 0.9433                                                                                                    \n",
      "\n",
      "Epoch 1: val_loss improved from inf to 0.07766, saving model to saved_models/weights.best.from_scatch_cnn.hdf5\n",
      "228/228 [==============================] - 194s 846ms/step - loss: 0.1142 - accuracy: 0.7955 - val_loss: 0.0777 - val_accuracy: 0.9939\n",
      "Epoch 2/3\n",
      "3636/3636 [==============================] - 59s 16ms/step\n",
      "404/404 [==============================] - 6s 15ms/step\n",
      "roc-auc: 0.9786 - roc-auc_val: 0.9578                                                                                                    \n",
      "\n",
      "Epoch 2: val_loss improved from 0.07766 to 0.06480, saving model to saved_models/weights.best.from_scatch_cnn.hdf5\n",
      "228/228 [==============================] - 203s 892ms/step - loss: 0.0628 - accuracy: 0.9553 - val_loss: 0.0648 - val_accuracy: 0.9939\n",
      "Epoch 3/3\n",
      "3636/3636 [==============================] - 58s 16ms/step\n",
      "404/404 [==============================] - 6s 15ms/step\n",
      "roc-auc: 0.9822 - roc-auc_val: 0.958                                                                                                    \n",
      "\n",
      "Epoch 3: val_loss improved from 0.06480 to 0.06387, saving model to saved_models/weights.best.from_scatch_cnn.hdf5\n",
      "228/228 [==============================] - 196s 862ms/step - loss: 0.0525 - accuracy: 0.9809 - val_loss: 0.0639 - val_accuracy: 0.9939\n"
     ]
    }
   ],
   "source": [
    "X_train, X_val, y_train, y_val = train_test_split(X_train, y_train, train_size=0.9, random_state=30)\n",
    "\n",
    "cnn_trained, history_cnn = train_model(cnn,\n",
    "                                       X_train,y_train,\n",
    "                                       X_val,y_val,\n",
    "                                       batch_size=512, \n",
    "                                       epochs=3,\n",
    "                                       filepath='saved_models/weights.best.from_scatch_cnn.hdf5')"
   ]
  },
  {
   "cell_type": "code",
   "execution_count": 70,
   "id": "355383c0",
   "metadata": {},
   "outputs": [],
   "source": [
    "# gru = Sequential()\n",
    "# gru.add(Embedding(len(word_index) + 1,\n",
    "#                      300,\n",
    "#                      weights=[embedding_matrix],\n",
    "#                      input_length=max_len,\n",
    "#                      trainable=False))\n",
    "# gru.add(SpatialDropout1D(0.3))\n",
    "# gru.add(GRU(300))\n",
    "# gru.add(Dense(1, activation='sigmoid'))\n",
    "\n",
    "# gru.compile(loss='binary_crossentropy', optimizer='adam',metrics=['accuracy'])\n",
    "# gru.summary()"
   ]
  },
  {
   "cell_type": "code",
   "execution_count": 71,
   "id": "67ec287f",
   "metadata": {},
   "outputs": [
    {
     "name": "stdout",
     "output_type": "stream",
     "text": [
      "Model: \"sequential_5\"\n",
      "_________________________________________________________________\n",
      " Layer (type)                Output Shape              Param #   \n",
      "=================================================================\n",
      " embedding_3 (Embedding)     (None, 250, 200)          5000000   \n",
      "                                                                 \n",
      " gru (GRU)                   (None, 32)                22464     \n",
      "                                                                 \n",
      " dense_4 (Dense)             (None, 6)                 198       \n",
      "                                                                 \n",
      "=================================================================\n",
      "Total params: 5,022,662\n",
      "Trainable params: 5,022,662\n",
      "Non-trainable params: 0\n",
      "_________________________________________________________________\n"
     ]
    }
   ],
   "source": [
    "gru = Sequential()\n",
    "gru.add(Embedding(max_features, 200, input_length=max_len))\n",
    "gru.add(GRU(32, dropout=0.2, recurrent_dropout=0.2))  # Add GRU layer with 32 units\n",
    "gru.add(Dense(6, activation='sigmoid'))\n",
    "\n",
    "gru.compile(optimizer='adam', loss='binary_crossentropy', metrics=['accuracy'])\n",
    "gru.summary()"
   ]
  },
  {
   "cell_type": "code",
   "execution_count": 72,
   "id": "539d2fc5",
   "metadata": {},
   "outputs": [
    {
     "name": "stdout",
     "output_type": "stream",
     "text": [
      "Epoch 1/3\n",
      "3272/3272 [==============================] - 119s 36ms/step\n",
      "364/364 [==============================] - 13s 36ms/step\n",
      "roc-auc: 0.503 - roc-auc_val: 0.5022                                                                                                    \n",
      "\n",
      "Epoch 1: val_loss improved from inf to 0.13589, saving model to saved_models/weights.best.from_scatch_gru.hdf5\n",
      "205/205 [==============================] - 484s 2s/step - loss: 0.2042 - accuracy: 0.6807 - val_loss: 0.1359 - val_accuracy: 0.9942\n",
      "Epoch 2/3\n",
      "3272/3272 [==============================] - 115s 35ms/step\n",
      "364/364 [==============================] - 14s 39ms/step\n",
      "roc-auc: 0.5203 - roc-auc_val: 0.5191                                                                                                    \n",
      "\n",
      "Epoch 2: val_loss improved from 0.13589 to 0.13523, saving model to saved_models/weights.best.from_scatch_gru.hdf5\n",
      "205/205 [==============================] - 1700s 8s/step - loss: 0.1409 - accuracy: 0.9936 - val_loss: 0.1352 - val_accuracy: 0.9941\n",
      "Epoch 3/3\n",
      "3272/3272 [==============================] - 131s 40ms/step\n",
      "364/364 [==============================] - 16s 43ms/step\n",
      "roc-auc: 0.4939 - roc-auc_val: 0.4866                                                                                                    \n",
      "\n",
      "Epoch 3: val_loss improved from 0.13523 to 0.13513, saving model to saved_models/weights.best.from_scatch_gru.hdf5\n",
      "205/205 [==============================] - 571s 3s/step - loss: 0.1406 - accuracy: 0.9935 - val_loss: 0.1351 - val_accuracy: 0.9941\n"
     ]
    }
   ],
   "source": [
    "X_train, X_val, y_train, y_val = train_test_split(X_train, y_train, train_size=0.9, random_state=30)\n",
    "\n",
    "gru_trained, history_gru = train_model(gru,\n",
    "                                       X_train, y_train,\n",
    "                                       X_val, y_val,\n",
    "                                       batch_size=512,\n",
    "                                       epochs=3,\n",
    "                                       filepath='saved_models/weights.best.from_scatch_gru.hdf5')"
   ]
  },
  {
   "cell_type": "code",
   "execution_count": null,
   "id": "fb3a1c6e",
   "metadata": {},
   "outputs": [],
   "source": []
  },
  {
   "cell_type": "code",
   "execution_count": 23,
   "id": "47dc501a",
   "metadata": {},
   "outputs": [
    {
     "name": "stderr",
     "output_type": "stream",
     "text": [
      "2023-06-06 04:44:10.405006: I tensorflow/core/common_runtime/executor.cc:1197] [/device:CPU:0] (DEBUG INFO) Executor start aborting (this does not indicate an error and you can ignore this message): INVALID_ARGUMENT: You must feed a value for placeholder tensor 'gradients/split_2_grad/concat/split_2/split_dim' with dtype int32\n",
      "\t [[{{node gradients/split_2_grad/concat/split_2/split_dim}}]]\n",
      "2023-06-06 04:44:10.407033: I tensorflow/core/common_runtime/executor.cc:1197] [/device:CPU:0] (DEBUG INFO) Executor start aborting (this does not indicate an error and you can ignore this message): INVALID_ARGUMENT: You must feed a value for placeholder tensor 'gradients/split_grad/concat/split/split_dim' with dtype int32\n",
      "\t [[{{node gradients/split_grad/concat/split/split_dim}}]]\n",
      "2023-06-06 04:44:10.408432: I tensorflow/core/common_runtime/executor.cc:1197] [/device:CPU:0] (DEBUG INFO) Executor start aborting (this does not indicate an error and you can ignore this message): INVALID_ARGUMENT: You must feed a value for placeholder tensor 'gradients/split_1_grad/concat/split_1/split_dim' with dtype int32\n",
      "\t [[{{node gradients/split_1_grad/concat/split_1/split_dim}}]]\n",
      "2023-06-06 04:44:10.568098: I tensorflow/core/common_runtime/executor.cc:1197] [/device:CPU:0] (DEBUG INFO) Executor start aborting (this does not indicate an error and you can ignore this message): INVALID_ARGUMENT: You must feed a value for placeholder tensor 'gradients/ReverseV2_grad/ReverseV2/ReverseV2/axis' with dtype int32 and shape [1]\n",
      "\t [[{{node gradients/ReverseV2_grad/ReverseV2/ReverseV2/axis}}]]\n"
     ]
    },
    {
     "name": "stdout",
     "output_type": "stream",
     "text": [
      "Model: \"sequential_1\"\n",
      "_________________________________________________________________\n",
      " Layer (type)                Output Shape              Param #   \n",
      "=================================================================\n",
      " embedding_1 (Embedding)     (None, 250, 100)          2000000   \n",
      "                                                                 \n",
      " bidirectional (Bidirectiona  (None, 250, 256)         234496    \n",
      " l)                                                              \n",
      "                                                                 \n",
      " global_max_pooling1d (Globa  (None, 256)              0         \n",
      " lMaxPooling1D)                                                  \n",
      "                                                                 \n",
      " dropout_3 (Dropout)         (None, 256)               0         \n",
      "                                                                 \n",
      " dense_2 (Dense)             (None, 60)                15420     \n",
      "                                                                 \n",
      " dropout_4 (Dropout)         (None, 60)                0         \n",
      "                                                                 \n",
      " dense_3 (Dense)             (None, 6)                 366       \n",
      "                                                                 \n",
      "=================================================================\n",
      "Total params: 2,250,282\n",
      "Trainable params: 2,250,282\n",
      "Non-trainable params: 0\n",
      "_________________________________________________________________\n"
     ]
    },
    {
     "name": "stderr",
     "output_type": "stream",
     "text": [
      "2023-06-06 04:44:10.643609: I tensorflow/core/common_runtime/executor.cc:1197] [/device:CPU:0] (DEBUG INFO) Executor start aborting (this does not indicate an error and you can ignore this message): INVALID_ARGUMENT: You must feed a value for placeholder tensor 'gradients/split_2_grad/concat/split_2/split_dim' with dtype int32\n",
      "\t [[{{node gradients/split_2_grad/concat/split_2/split_dim}}]]\n",
      "2023-06-06 04:44:10.646877: I tensorflow/core/common_runtime/executor.cc:1197] [/device:CPU:0] (DEBUG INFO) Executor start aborting (this does not indicate an error and you can ignore this message): INVALID_ARGUMENT: You must feed a value for placeholder tensor 'gradients/split_grad/concat/split/split_dim' with dtype int32\n",
      "\t [[{{node gradients/split_grad/concat/split/split_dim}}]]\n",
      "2023-06-06 04:44:10.649982: I tensorflow/core/common_runtime/executor.cc:1197] [/device:CPU:0] (DEBUG INFO) Executor start aborting (this does not indicate an error and you can ignore this message): INVALID_ARGUMENT: You must feed a value for placeholder tensor 'gradients/split_1_grad/concat/split_1/split_dim' with dtype int32\n",
      "\t [[{{node gradients/split_1_grad/concat/split_1/split_dim}}]]\n"
     ]
    }
   ],
   "source": [
    "# model_rnn = Sequential()\n",
    "# model_rnn.add(Embedding(max_features, 100, input_length=maxlen))\n",
    "# model_rnn.add(Bidirectional(LSTM(128, return_sequences=True)))\n",
    "# model_rnn.add(GlobalMaxPool1D())\n",
    "# model_rnn.add(Dropout(0.25))\n",
    "# model_rnn.add(Dense(60, activation=\"relu\"))\n",
    "# model_rnn.add(Dropout(0.25))\n",
    "# model_rnn.add(Dense(6, activation=\"sigmoid\"))\n",
    "\n",
    "# # summary\n",
    "# model_rnn.summary()"
   ]
  },
  {
   "cell_type": "code",
   "execution_count": null,
   "id": "6bd151db",
   "metadata": {},
   "outputs": [
    {
     "name": "stdout",
     "output_type": "stream",
     "text": [
      "Epoch 1/5\n"
     ]
    },
    {
     "name": "stderr",
     "output_type": "stream",
     "text": [
      "2023-06-06 04:44:28.281006: I tensorflow/core/common_runtime/executor.cc:1197] [/device:CPU:0] (DEBUG INFO) Executor start aborting (this does not indicate an error and you can ignore this message): INVALID_ARGUMENT: You must feed a value for placeholder tensor 'gradients/split_2_grad/concat/split_2/split_dim' with dtype int32\n",
      "\t [[{{node gradients/split_2_grad/concat/split_2/split_dim}}]]\n",
      "2023-06-06 04:44:28.283848: I tensorflow/core/common_runtime/executor.cc:1197] [/device:CPU:0] (DEBUG INFO) Executor start aborting (this does not indicate an error and you can ignore this message): INVALID_ARGUMENT: You must feed a value for placeholder tensor 'gradients/split_grad/concat/split/split_dim' with dtype int32\n",
      "\t [[{{node gradients/split_grad/concat/split/split_dim}}]]\n",
      "2023-06-06 04:44:28.286050: I tensorflow/core/common_runtime/executor.cc:1197] [/device:CPU:0] (DEBUG INFO) Executor start aborting (this does not indicate an error and you can ignore this message): INVALID_ARGUMENT: You must feed a value for placeholder tensor 'gradients/split_1_grad/concat/split_1/split_dim' with dtype int32\n",
      "\t [[{{node gradients/split_1_grad/concat/split_1/split_dim}}]]\n",
      "2023-06-06 04:44:28.557582: I tensorflow/core/common_runtime/executor.cc:1197] [/device:CPU:0] (DEBUG INFO) Executor start aborting (this does not indicate an error and you can ignore this message): INVALID_ARGUMENT: You must feed a value for placeholder tensor 'gradients/ReverseV2_grad/ReverseV2/ReverseV2/axis' with dtype int32 and shape [1]\n",
      "\t [[{{node gradients/ReverseV2_grad/ReverseV2/ReverseV2/axis}}]]\n",
      "2023-06-06 04:44:28.629649: I tensorflow/core/common_runtime/executor.cc:1197] [/device:CPU:0] (DEBUG INFO) Executor start aborting (this does not indicate an error and you can ignore this message): INVALID_ARGUMENT: You must feed a value for placeholder tensor 'gradients/split_2_grad/concat/split_2/split_dim' with dtype int32\n",
      "\t [[{{node gradients/split_2_grad/concat/split_2/split_dim}}]]\n",
      "2023-06-06 04:44:28.632020: I tensorflow/core/common_runtime/executor.cc:1197] [/device:CPU:0] (DEBUG INFO) Executor start aborting (this does not indicate an error and you can ignore this message): INVALID_ARGUMENT: You must feed a value for placeholder tensor 'gradients/split_grad/concat/split/split_dim' with dtype int32\n",
      "\t [[{{node gradients/split_grad/concat/split/split_dim}}]]\n",
      "2023-06-06 04:44:28.634030: I tensorflow/core/common_runtime/executor.cc:1197] [/device:CPU:0] (DEBUG INFO) Executor start aborting (this does not indicate an error and you can ignore this message): INVALID_ARGUMENT: You must feed a value for placeholder tensor 'gradients/split_1_grad/concat/split_1/split_dim' with dtype int32\n",
      "\t [[{{node gradients/split_1_grad/concat/split_1/split_dim}}]]\n",
      "2023-06-06 04:44:29.345073: I tensorflow/core/common_runtime/executor.cc:1197] [/device:CPU:0] (DEBUG INFO) Executor start aborting (this does not indicate an error and you can ignore this message): INVALID_ARGUMENT: You must feed a value for placeholder tensor 'gradients/ReverseV2_grad/ReverseV2/ReverseV2/axis' with dtype int32 and shape [1]\n",
      "\t [[{{node gradients/ReverseV2_grad/ReverseV2/ReverseV2/axis}}]]\n",
      "2023-06-06 04:44:30.140665: I tensorflow/core/common_runtime/executor.cc:1197] [/device:CPU:0] (DEBUG INFO) Executor start aborting (this does not indicate an error and you can ignore this message): INVALID_ARGUMENT: You must feed a value for placeholder tensor 'gradients/split_2_grad/concat/split_2/split_dim' with dtype int32\n",
      "\t [[{{node gradients/split_2_grad/concat/split_2/split_dim}}]]\n",
      "2023-06-06 04:44:30.143582: I tensorflow/core/common_runtime/executor.cc:1197] [/device:CPU:0] (DEBUG INFO) Executor start aborting (this does not indicate an error and you can ignore this message): INVALID_ARGUMENT: You must feed a value for placeholder tensor 'gradients/split_grad/concat/split/split_dim' with dtype int32\n",
      "\t [[{{node gradients/split_grad/concat/split/split_dim}}]]\n",
      "2023-06-06 04:44:30.148053: I tensorflow/core/common_runtime/executor.cc:1197] [/device:CPU:0] (DEBUG INFO) Executor start aborting (this does not indicate an error and you can ignore this message): INVALID_ARGUMENT: You must feed a value for placeholder tensor 'gradients/split_1_grad/concat/split_1/split_dim' with dtype int32\n",
      "\t [[{{node gradients/split_1_grad/concat/split_1/split_dim}}]]\n",
      "2023-06-06 04:44:30.378504: I tensorflow/core/common_runtime/executor.cc:1197] [/device:CPU:0] (DEBUG INFO) Executor start aborting (this does not indicate an error and you can ignore this message): INVALID_ARGUMENT: You must feed a value for placeholder tensor 'gradients/ReverseV2_grad/ReverseV2/ReverseV2/axis' with dtype int32 and shape [1]\n",
      "\t [[{{node gradients/ReverseV2_grad/ReverseV2/ReverseV2/axis}}]]\n",
      "2023-06-06 04:44:30.475424: I tensorflow/core/common_runtime/executor.cc:1197] [/device:CPU:0] (DEBUG INFO) Executor start aborting (this does not indicate an error and you can ignore this message): INVALID_ARGUMENT: You must feed a value for placeholder tensor 'gradients/split_2_grad/concat/split_2/split_dim' with dtype int32\n",
      "\t [[{{node gradients/split_2_grad/concat/split_2/split_dim}}]]\n",
      "2023-06-06 04:44:30.477950: I tensorflow/core/common_runtime/executor.cc:1197] [/device:CPU:0] (DEBUG INFO) Executor start aborting (this does not indicate an error and you can ignore this message): INVALID_ARGUMENT: You must feed a value for placeholder tensor 'gradients/split_grad/concat/split/split_dim' with dtype int32\n",
      "\t [[{{node gradients/split_grad/concat/split/split_dim}}]]\n",
      "2023-06-06 04:44:30.480874: I tensorflow/core/common_runtime/executor.cc:1197] [/device:CPU:0] (DEBUG INFO) Executor start aborting (this does not indicate an error and you can ignore this message): INVALID_ARGUMENT: You must feed a value for placeholder tensor 'gradients/split_1_grad/concat/split_1/split_dim' with dtype int32\n",
      "\t [[{{node gradients/split_1_grad/concat/split_1/split_dim}}]]\n",
      "2023-06-06 04:44:31.379612: I tensorflow/core/common_runtime/executor.cc:1197] [/device:CPU:0] (DEBUG INFO) Executor start aborting (this does not indicate an error and you can ignore this message): INVALID_ARGUMENT: You must feed a value for placeholder tensor 'gradients/ReverseV2_grad/ReverseV2/ReverseV2/axis' with dtype int32 and shape [1]\n",
      "\t [[{{node gradients/ReverseV2_grad/ReverseV2/ReverseV2/axis}}]]\n"
     ]
    },
    {
     "name": "stdout",
     "output_type": "stream",
     "text": [
      "281/281 [==============================] - ETA: 0s - loss: 0.1365 - accuracy: 0.7026"
     ]
    },
    {
     "name": "stderr",
     "output_type": "stream",
     "text": [
      "2023-06-06 05:11:42.878602: I tensorflow/core/common_runtime/executor.cc:1197] [/device:CPU:0] (DEBUG INFO) Executor start aborting (this does not indicate an error and you can ignore this message): INVALID_ARGUMENT: You must feed a value for placeholder tensor 'gradients/split_2_grad/concat/split_2/split_dim' with dtype int32\n",
      "\t [[{{node gradients/split_2_grad/concat/split_2/split_dim}}]]\n",
      "2023-06-06 05:11:42.881897: I tensorflow/core/common_runtime/executor.cc:1197] [/device:CPU:0] (DEBUG INFO) Executor start aborting (this does not indicate an error and you can ignore this message): INVALID_ARGUMENT: You must feed a value for placeholder tensor 'gradients/split_grad/concat/split/split_dim' with dtype int32\n",
      "\t [[{{node gradients/split_grad/concat/split/split_dim}}]]\n",
      "2023-06-06 05:11:42.884227: I tensorflow/core/common_runtime/executor.cc:1197] [/device:CPU:0] (DEBUG INFO) Executor start aborting (this does not indicate an error and you can ignore this message): INVALID_ARGUMENT: You must feed a value for placeholder tensor 'gradients/split_1_grad/concat/split_1/split_dim' with dtype int32\n",
      "\t [[{{node gradients/split_1_grad/concat/split_1/split_dim}}]]\n",
      "2023-06-06 05:11:43.252807: I tensorflow/core/common_runtime/executor.cc:1197] [/device:CPU:0] (DEBUG INFO) Executor start aborting (this does not indicate an error and you can ignore this message): INVALID_ARGUMENT: You must feed a value for placeholder tensor 'gradients/ReverseV2_grad/ReverseV2/ReverseV2/axis' with dtype int32 and shape [1]\n",
      "\t [[{{node gradients/ReverseV2_grad/ReverseV2/ReverseV2/axis}}]]\n",
      "2023-06-06 05:11:43.358817: I tensorflow/core/common_runtime/executor.cc:1197] [/device:CPU:0] (DEBUG INFO) Executor start aborting (this does not indicate an error and you can ignore this message): INVALID_ARGUMENT: You must feed a value for placeholder tensor 'gradients/split_2_grad/concat/split_2/split_dim' with dtype int32\n",
      "\t [[{{node gradients/split_2_grad/concat/split_2/split_dim}}]]\n",
      "2023-06-06 05:11:43.361688: I tensorflow/core/common_runtime/executor.cc:1197] [/device:CPU:0] (DEBUG INFO) Executor start aborting (this does not indicate an error and you can ignore this message): INVALID_ARGUMENT: You must feed a value for placeholder tensor 'gradients/split_grad/concat/split/split_dim' with dtype int32\n",
      "\t [[{{node gradients/split_grad/concat/split/split_dim}}]]\n",
      "2023-06-06 05:11:43.364389: I tensorflow/core/common_runtime/executor.cc:1197] [/device:CPU:0] (DEBUG INFO) Executor start aborting (this does not indicate an error and you can ignore this message): INVALID_ARGUMENT: You must feed a value for placeholder tensor 'gradients/split_1_grad/concat/split_1/split_dim' with dtype int32\n",
      "\t [[{{node gradients/split_1_grad/concat/split_1/split_dim}}]]\n",
      "2023-06-06 05:12:38.431125: I tensorflow/core/common_runtime/executor.cc:1197] [/device:CPU:0] (DEBUG INFO) Executor start aborting (this does not indicate an error and you can ignore this message): INVALID_ARGUMENT: You must feed a value for placeholder tensor 'gradients/split_2_grad/concat/split_2/split_dim' with dtype int32\n",
      "\t [[{{node gradients/split_2_grad/concat/split_2/split_dim}}]]\n",
      "2023-06-06 05:12:38.433985: I tensorflow/core/common_runtime/executor.cc:1197] [/device:CPU:0] (DEBUG INFO) Executor start aborting (this does not indicate an error and you can ignore this message): INVALID_ARGUMENT: You must feed a value for placeholder tensor 'gradients/split_grad/concat/split/split_dim' with dtype int32\n",
      "\t [[{{node gradients/split_grad/concat/split/split_dim}}]]\n",
      "2023-06-06 05:12:38.437092: I tensorflow/core/common_runtime/executor.cc:1197] [/device:CPU:0] (DEBUG INFO) Executor start aborting (this does not indicate an error and you can ignore this message): INVALID_ARGUMENT: You must feed a value for placeholder tensor 'gradients/split_1_grad/concat/split_1/split_dim' with dtype int32\n",
      "\t [[{{node gradients/split_1_grad/concat/split_1/split_dim}}]]\n",
      "2023-06-06 05:12:38.851277: I tensorflow/core/common_runtime/executor.cc:1197] [/device:CPU:0] (DEBUG INFO) Executor start aborting (this does not indicate an error and you can ignore this message): INVALID_ARGUMENT: You must feed a value for placeholder tensor 'gradients/ReverseV2_grad/ReverseV2/ReverseV2/axis' with dtype int32 and shape [1]\n",
      "\t [[{{node gradients/ReverseV2_grad/ReverseV2/ReverseV2/axis}}]]\n",
      "2023-06-06 05:12:39.070658: I tensorflow/core/common_runtime/executor.cc:1197] [/device:CPU:0] (DEBUG INFO) Executor start aborting (this does not indicate an error and you can ignore this message): INVALID_ARGUMENT: You must feed a value for placeholder tensor 'gradients/split_2_grad/concat/split_2/split_dim' with dtype int32\n",
      "\t [[{{node gradients/split_2_grad/concat/split_2/split_dim}}]]\n",
      "2023-06-06 05:12:39.073836: I tensorflow/core/common_runtime/executor.cc:1197] [/device:CPU:0] (DEBUG INFO) Executor start aborting (this does not indicate an error and you can ignore this message): INVALID_ARGUMENT: You must feed a value for placeholder tensor 'gradients/split_grad/concat/split/split_dim' with dtype int32\n",
      "\t [[{{node gradients/split_grad/concat/split/split_dim}}]]\n",
      "2023-06-06 05:12:39.079022: I tensorflow/core/common_runtime/executor.cc:1197] [/device:CPU:0] (DEBUG INFO) Executor start aborting (this does not indicate an error and you can ignore this message): INVALID_ARGUMENT: You must feed a value for placeholder tensor 'gradients/split_1_grad/concat/split_1/split_dim' with dtype int32\n",
      "\t [[{{node gradients/split_1_grad/concat/split_1/split_dim}}]]\n"
     ]
    },
    {
     "name": "stdout",
     "output_type": "stream",
     "text": [
      "4488/4488 [==============================] - 3006s 670ms/step\n",
      "499/499 [==============================] - 521s 1s/step\n",
      "roc-auc: 0.9595 - roc-auc_val: 0.955                                                                                                    \n",
      "\n",
      "Epoch 1: val_loss improved from inf to 0.06064, saving model to saved_models/weights.best.from_scratch_rnn.hdf5\n",
      "281/281 [==============================] - 5255s 19s/step - loss: 0.1365 - accuracy: 0.7026 - val_loss: 0.0606 - val_accuracy: 0.9946\n",
      "Epoch 2/5\n",
      "4488/4488 [==============================] - 4547s 1s/step\n",
      "499/499 [==============================] - 612s 1s/step\n",
      "roc-auc: 0.9788 - roc-auc_val: 0.9744                                                                                                    \n",
      "\n",
      "Epoch 2: val_loss improved from 0.06064 to 0.04923, saving model to saved_models/weights.best.from_scratch_rnn.hdf5\n",
      "281/281 [==============================] - 15136s 54s/step - loss: 0.0557 - accuracy: 0.9507 - val_loss: 0.0492 - val_accuracy: 0.9946\n",
      "Epoch 3/5\n",
      "4488/4488 [==============================] - 817s 182ms/step\n",
      "499/499 [==============================] - 90s 180ms/step\n",
      "roc-auc: 0.9817 - roc-auc_val: 0.9748                                                                                                    \n",
      "\n",
      "Epoch 3: val_loss improved from 0.04923 to 0.04875, saving model to saved_models/weights.best.from_scratch_rnn.hdf5\n",
      "281/281 [==============================] - 7541s 27s/step - loss: 0.0474 - accuracy: 0.9744 - val_loss: 0.0487 - val_accuracy: 0.9945\n",
      "Epoch 4/5\n",
      "  1/281 [..............................] - ETA: 40:08 - loss: 0.0482 - accuracy: 0.9883"
     ]
    }
   ],
   "source": [
    "# model_rnn_trained, history_rnn = train_model(model_rnn,\n",
    "#                                 X_train,y_train,\n",
    "#                                 X_val,y_val,\n",
    "#                                 batch_size=512, \n",
    "#                                 epochs=3,)"
   ]
  },
  {
   "cell_type": "code",
   "execution_count": null,
   "id": "fbbb201f",
   "metadata": {},
   "outputs": [],
   "source": []
  },
  {
   "cell_type": "code",
   "execution_count": null,
   "id": "249bc9ff",
   "metadata": {},
   "outputs": [],
   "source": []
  },
  {
   "cell_type": "code",
   "execution_count": null,
   "id": "2b20ac42",
   "metadata": {},
   "outputs": [],
   "source": []
  },
  {
   "cell_type": "code",
   "execution_count": null,
   "id": "97f5516a",
   "metadata": {},
   "outputs": [],
   "source": []
  },
  {
   "cell_type": "code",
   "execution_count": null,
   "id": "7d886f50",
   "metadata": {},
   "outputs": [],
   "source": []
  },
  {
   "cell_type": "code",
   "execution_count": null,
   "id": "02093e36",
   "metadata": {},
   "outputs": [],
   "source": []
  }
 ],
 "metadata": {
  "kernelspec": {
   "display_name": "Python 3 (ipykernel)",
   "language": "python",
   "name": "python3"
  },
  "language_info": {
   "codemirror_mode": {
    "name": "ipython",
    "version": 3
   },
   "file_extension": ".py",
   "mimetype": "text/x-python",
   "name": "python",
   "nbconvert_exporter": "python",
   "pygments_lexer": "ipython3",
   "version": "3.9.13"
  }
 },
 "nbformat": 4,
 "nbformat_minor": 5
}
