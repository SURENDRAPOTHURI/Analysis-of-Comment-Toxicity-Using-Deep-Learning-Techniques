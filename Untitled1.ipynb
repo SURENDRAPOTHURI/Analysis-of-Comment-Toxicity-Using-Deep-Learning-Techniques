{
 "cells": [
  {
   "cell_type": "markdown",
   "id": "47f94706",
   "metadata": {},
   "source": [
    "## Overview of the Project\n",
    "\n",
    "The Internet's dark side is seen in toxic online comments that have been escalating each year. Major news organizations like CNN and Reuters are shutting down comment sections due to abusive behavior and poor quality comments. For our project we are attempting a task to classify online toxic comments from non-toxic comments to improve online discussion environment."
   ]
  },
  {
   "cell_type": "markdown",
   "id": "53d6b33a",
   "metadata": {},
   "source": [
    "## Identify and describe the data you used\n",
    "\n",
    "\n",
    "The dataset used in this project consists of 159,571 comments extracted from Wikipedia Talk pages.\n",
    "They annotate the label by asking 5000 crowd-workers to rate Wikipedia comments.\n",
    "\n",
    "#### Columns\n",
    "id - unique id for each comment.\n",
    "\n",
    "Comment Text - comments \n",
    "\n",
    "Toxic – ‘Bye! Don't look, come or think of comming back! Tosser.’\n",
    "\n",
    "Severely Toxic – inappropriate for class\n",
    "\n",
    "Obscene – ‘A pair of jew-hating weiner nazi schmucks.’\n",
    "\n",
    "Threat – ‘Hi! I am back again! Last warning! Stop undoing my edits or die!’\n",
    "\n",
    "Insult – ‘People like you who revert good edits because you're too stupid to understand how to write well , and then revert other edits just because you've decided to bear a playground grudge, are the problem.  Maybe one day you'll realize the damage you did to a noble project.’\n",
    "\n",
    "Identity Hate – ‘He is also very ugly, and has a willy for a face.’\n",
    "\n"
   ]
  },
  {
   "cell_type": "markdown",
   "id": "cbcc2d18",
   "metadata": {},
   "source": [
    "## Intention\n",
    "\n",
    "The main objective of this project is to develop a multi-labeled  classification model using Natural Language Processing and deep learning techniques.\n",
    "The goal of this project is to build a multi-label classification model that’s capable of detecting different types of toxicity like threats, obscenity, insults, and identity-based hate.\n",
    "The ultimate goal is to create a more productive and respectful online environment by mitigating the impact of toxic comments."
   ]
  },
  {
   "cell_type": "markdown",
   "id": "1fbb7e00",
   "metadata": {},
   "source": [
    "## Analytic Approach\n",
    "\n",
    "\n"
   ]
  },
  {
   "cell_type": "markdown",
   "id": "4096d95c",
   "metadata": {},
   "source": [
    "### 1. Data Preprocessing\n",
    "\n",
    "##### 1. Understanding Data Set and Shape of the dataset"
   ]
  },
  {
   "cell_type": "markdown",
   "id": "6de5f7c1",
   "metadata": {},
   "source": [
    "pd.set_option('display.max_colwidth', 10000)\n",
    "\n",
    "train = pd.read_csv('train.csv')\n",
    "\n",
    "test = pd.read_csv('test.csv')\n",
    "\n",
    "print('Trainning set = {} records and Testing set = {} records.'.format(len(train),len(test)))"
   ]
  },
  {
   "cell_type": "code",
   "execution_count": null,
   "id": "9a733935",
   "metadata": {},
   "outputs": [],
   "source": []
  }
 ],
 "metadata": {
  "kernelspec": {
   "display_name": "Python 3 (ipykernel)",
   "language": "python",
   "name": "python3"
  },
  "language_info": {
   "codemirror_mode": {
    "name": "ipython",
    "version": 3
   },
   "file_extension": ".py",
   "mimetype": "text/x-python",
   "name": "python",
   "nbconvert_exporter": "python",
   "pygments_lexer": "ipython3",
   "version": "3.9.13"
  }
 },
 "nbformat": 4,
 "nbformat_minor": 5
}
